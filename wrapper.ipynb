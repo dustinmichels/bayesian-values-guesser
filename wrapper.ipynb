{
 "cells": [
  {
   "cell_type": "code",
   "execution_count": 1,
   "metadata": {},
   "outputs": [],
   "source": [
    "from data_wrapper import WVS_Data\n",
    "from bayes import bayes, test_all_vars\n",
    "from data_prep import all_vars"
   ]
  },
  {
   "cell_type": "code",
   "execution_count": 2,
   "metadata": {},
   "outputs": [],
   "source": [
    "data = WVS_Data()"
   ]
  },
  {
   "cell_type": "code",
   "execution_count": null,
   "metadata": {},
   "outputs": [],
   "source": []
  },
  {
   "cell_type": "code",
   "execution_count": null,
   "metadata": {},
   "outputs": [],
   "source": []
  },
  {
   "cell_type": "code",
   "execution_count": null,
   "metadata": {},
   "outputs": [],
   "source": []
  },
  {
   "cell_type": "code",
   "execution_count": 15,
   "metadata": {},
   "outputs": [
    {
     "data": {
      "text/plain": [
       "0        1.0000\n",
       "1        1.0000\n",
       "2        1.0000\n",
       "3        1.0000\n",
       "4        1.0000\n",
       "5        1.0000\n",
       "6        1.0000\n",
       "7        1.0000\n",
       "8        1.0000\n",
       "9        1.0000\n",
       "10       1.0000\n",
       "11       1.0000\n",
       "12       1.0000\n",
       "13       1.0000\n",
       "14       1.0000\n",
       "15       1.0000\n",
       "16       1.0000\n",
       "17       1.0000\n",
       "18       1.0000\n",
       "19       1.0000\n",
       "20       1.0000\n",
       "21       1.0000\n",
       "22       1.0000\n",
       "23       1.0000\n",
       "24       1.0000\n",
       "25       1.0000\n",
       "26       1.0000\n",
       "27       1.0000\n",
       "28       1.0000\n",
       "29       1.0000\n",
       "          ...  \n",
       "90320    0.4329\n",
       "90321    0.4329\n",
       "90322    0.4329\n",
       "90323    0.4329\n",
       "90324    0.4329\n",
       "90325    0.4329\n",
       "90326    0.4329\n",
       "90327    0.4329\n",
       "90328    0.4329\n",
       "90329    0.4329\n",
       "90330    2.2801\n",
       "90331    2.2801\n",
       "90332    2.2801\n",
       "90333    2.2801\n",
       "90334    2.2801\n",
       "90335    2.2801\n",
       "90336    2.2801\n",
       "90337    2.2801\n",
       "90338    2.2801\n",
       "90339    2.2801\n",
       "90340    2.2801\n",
       "90341    2.2801\n",
       "90342    2.2801\n",
       "90343    2.2801\n",
       "90344    2.2801\n",
       "90345    2.2801\n",
       "90346    2.2801\n",
       "90347    2.2801\n",
       "90348    2.2801\n",
       "90349    2.2801\n",
       "Name: V258A, Length: 90350, dtype: float64"
      ]
     },
     "execution_count": 15,
     "metadata": {},
     "output_type": "execute_result"
    }
   ],
   "source": [
    "data.responses['V258A']"
   ]
  },
  {
   "cell_type": "code",
   "execution_count": 12,
   "metadata": {},
   "outputs": [
    {
     "data": {
      "text/plain": [
       "Responses: (90350, 339)\n",
       "Codebook: (339, 3)"
      ]
     },
     "execution_count": 12,
     "metadata": {},
     "output_type": "execute_result"
    }
   ],
   "source": [
    "data"
   ]
  },
  {
   "cell_type": "code",
   "execution_count": null,
   "metadata": {},
   "outputs": [],
   "source": []
  },
  {
   "cell_type": "code",
   "execution_count": 6,
   "metadata": {},
   "outputs": [
    {
     "name": "stdout",
     "output_type": "stream",
     "text": [
      "Label: Weight\n",
      "\n",
      "Question: Weight variable (Provide a 4-digit weight variable to correct your sample to reflect national distributions of key variables. If no weighting is necessary, simply code each case as “1.” It is especially important to correct for education. For example, if your sample contains 10 percent more university-educated respondents as there are in the adult population, members of this group should be downweighted by 10 percent, giving them a weight of .90).\n",
      "\n",
      "Categories: \n",
      " 1. No weighting\n",
      " 0. Undefined\n",
      " 0.1#10#reasonable\n",
      " 0.05#50#bad\n",
      " \n"
     ]
    }
   ],
   "source": [
    "data.about_q('V258')"
   ]
  },
  {
   "cell_type": "code",
   "execution_count": null,
   "metadata": {},
   "outputs": [],
   "source": []
  },
  {
   "cell_type": "code",
   "execution_count": null,
   "metadata": {},
   "outputs": [],
   "source": []
  },
  {
   "cell_type": "code",
   "execution_count": null,
   "metadata": {},
   "outputs": [],
   "source": []
  },
  {
   "cell_type": "code",
   "execution_count": 3,
   "metadata": {},
   "outputs": [],
   "source": [
    "# Drop negative responses\n",
    "df = data.responses.loc[:,all_vars]\n",
    "df = df.mask(df < 0).dropna()"
   ]
  },
  {
   "cell_type": "code",
   "execution_count": 4,
   "metadata": {},
   "outputs": [
    {
     "data": {
      "text/html": [
       "<div>\n",
       "<style scoped>\n",
       "    .dataframe tbody tr th:only-of-type {\n",
       "        vertical-align: middle;\n",
       "    }\n",
       "\n",
       "    .dataframe tbody tr th {\n",
       "        vertical-align: top;\n",
       "    }\n",
       "\n",
       "    .dataframe thead th {\n",
       "        text-align: right;\n",
       "    }\n",
       "</style>\n",
       "<table border=\"1\" class=\"dataframe\">\n",
       "  <thead>\n",
       "    <tr style=\"text-align: right;\">\n",
       "      <th></th>\n",
       "      <th>var</th>\n",
       "      <th>des</th>\n",
       "      <th>baseline</th>\n",
       "      <th>score</th>\n",
       "      <th>improve</th>\n",
       "    </tr>\n",
       "  </thead>\n",
       "  <tbody>\n",
       "    <tr>\n",
       "      <th>0</th>\n",
       "      <td>V2A</td>\n",
       "      <td>country code</td>\n",
       "      <td>0.062421</td>\n",
       "      <td>0.120801</td>\n",
       "      <td>0.058380</td>\n",
       "    </tr>\n",
       "    <tr>\n",
       "      <th>1</th>\n",
       "      <td>V4</td>\n",
       "      <td>import in life: family</td>\n",
       "      <td>0.920056</td>\n",
       "      <td>0.919103</td>\n",
       "      <td>-0.000953</td>\n",
       "    </tr>\n",
       "    <tr>\n",
       "      <th>2</th>\n",
       "      <td>V10</td>\n",
       "      <td>feeling of happiness</td>\n",
       "      <td>0.507036</td>\n",
       "      <td>0.468631</td>\n",
       "      <td>-0.038406</td>\n",
       "    </tr>\n",
       "    <tr>\n",
       "      <th>3</th>\n",
       "      <td>V80</td>\n",
       "      <td>most serious world problem</td>\n",
       "      <td>0.561649</td>\n",
       "      <td>0.496595</td>\n",
       "      <td>-0.065054</td>\n",
       "    </tr>\n",
       "    <tr>\n",
       "      <th>4</th>\n",
       "      <td>V100</td>\n",
       "      <td>Hard work brings success</td>\n",
       "      <td>0.267432</td>\n",
       "      <td>0.261485</td>\n",
       "      <td>-0.005947</td>\n",
       "    </tr>\n",
       "    <tr>\n",
       "      <th>5</th>\n",
       "      <td>V148</td>\n",
       "      <td>Believe in God</td>\n",
       "      <td>0.869484</td>\n",
       "      <td>0.869167</td>\n",
       "      <td>-0.000318</td>\n",
       "    </tr>\n",
       "    <tr>\n",
       "      <th>6</th>\n",
       "      <td>V179</td>\n",
       "      <td>victim of crime</td>\n",
       "      <td>0.912657</td>\n",
       "      <td>0.907663</td>\n",
       "      <td>-0.004994</td>\n",
       "    </tr>\n",
       "    <tr>\n",
       "      <th>7</th>\n",
       "      <td>V178</td>\n",
       "      <td>carried knife for security</td>\n",
       "      <td>0.928591</td>\n",
       "      <td>0.928591</td>\n",
       "      <td>0.000000</td>\n",
       "    </tr>\n",
       "    <tr>\n",
       "      <th>8</th>\n",
       "      <td>V187</td>\n",
       "      <td>war is necessary</td>\n",
       "      <td>0.656846</td>\n",
       "      <td>0.635600</td>\n",
       "      <td>-0.021246</td>\n",
       "    </tr>\n",
       "    <tr>\n",
       "      <th>9</th>\n",
       "      <td>V209</td>\n",
       "      <td>Justifiable parents beat children</td>\n",
       "      <td>0.515072</td>\n",
       "      <td>0.514981</td>\n",
       "      <td>-0.000091</td>\n",
       "    </tr>\n",
       "    <tr>\n",
       "      <th>10</th>\n",
       "      <td>V211</td>\n",
       "      <td>proud of nationality</td>\n",
       "      <td>0.598239</td>\n",
       "      <td>0.531505</td>\n",
       "      <td>-0.066733</td>\n",
       "    </tr>\n",
       "    <tr>\n",
       "      <th>11</th>\n",
       "      <td>V225</td>\n",
       "      <td>how often use personal computer</td>\n",
       "      <td>0.388506</td>\n",
       "      <td>0.499818</td>\n",
       "      <td>0.111313</td>\n",
       "    </tr>\n",
       "    <tr>\n",
       "      <th>12</th>\n",
       "      <td>V238</td>\n",
       "      <td>social class subjective</td>\n",
       "      <td>0.357136</td>\n",
       "      <td>0.351507</td>\n",
       "      <td>-0.005629</td>\n",
       "    </tr>\n",
       "    <tr>\n",
       "      <th>13</th>\n",
       "      <td>V248</td>\n",
       "      <td>highest educational level</td>\n",
       "      <td>0.199383</td>\n",
       "      <td>0.215725</td>\n",
       "      <td>0.016343</td>\n",
       "    </tr>\n",
       "  </tbody>\n",
       "</table>\n",
       "</div>"
      ],
      "text/plain": [
       "     var                                des  baseline     score   improve\n",
       "0    V2A                       country code  0.062421  0.120801  0.058380\n",
       "1     V4             import in life: family  0.920056  0.919103 -0.000953\n",
       "2    V10               feeling of happiness  0.507036  0.468631 -0.038406\n",
       "3    V80         most serious world problem  0.561649  0.496595 -0.065054\n",
       "4   V100           Hard work brings success  0.267432  0.261485 -0.005947\n",
       "5   V148                     Believe in God  0.869484  0.869167 -0.000318\n",
       "6   V179                    victim of crime  0.912657  0.907663 -0.004994\n",
       "7   V178         carried knife for security  0.928591  0.928591  0.000000\n",
       "8   V187                   war is necessary  0.656846  0.635600 -0.021246\n",
       "9   V209  Justifiable parents beat children  0.515072  0.514981 -0.000091\n",
       "10  V211               proud of nationality  0.598239  0.531505 -0.066733\n",
       "11  V225    how often use personal computer  0.388506  0.499818  0.111313\n",
       "12  V238            social class subjective  0.357136  0.351507 -0.005629\n",
       "13  V248          highest educational level  0.199383  0.215725  0.016343"
      ]
     },
     "execution_count": 4,
     "metadata": {},
     "output_type": "execute_result"
    }
   ],
   "source": [
    "test_all_vars(df, all_vars)"
   ]
  },
  {
   "cell_type": "code",
   "execution_count": null,
   "metadata": {},
   "outputs": [],
   "source": []
  }
 ],
 "metadata": {
  "kernelspec": {
   "display_name": "Python 3",
   "language": "python",
   "name": "python3"
  },
  "language_info": {
   "codemirror_mode": {
    "name": "ipython",
    "version": 3
   },
   "file_extension": ".py",
   "mimetype": "text/x-python",
   "name": "python",
   "nbconvert_exporter": "python",
   "pygments_lexer": "ipython3",
   "version": "3.6.4"
  }
 },
 "nbformat": 4,
 "nbformat_minor": 2
}
